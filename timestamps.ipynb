{
 "cells": [
  {
   "cell_type": "code",
   "execution_count": null,
   "id": "123b0fa6c7add1ca",
   "metadata": {
    "collapsed": false
   },
   "outputs": [],
   "source": [
    "import pandas as pd\n",
    "import plotly.express as px\n",
    "import polars as pl\n",
    "import numpy as np\n",
    "\n",
    "pd.options.plotting.backend = \"plotly\"\n",
    "pd.set_option('display.precision', 17)\n",
    "\n",
    "df = pd.read_csv('block-times-oct-27-2023.zip', index_col=0)"
   ]
  },
  {
   "cell_type": "markdown",
   "source": [
    "We want to see how much node timestamps on block signatures had varied historically."
   ],
   "metadata": {
    "collapsed": false
   },
   "id": "771ab4b9a20f4cbf"
  },
  {
   "cell_type": "code",
   "execution_count": null,
   "id": "46858ffb1b8f7c60",
   "metadata": {
    "collapsed": false
   },
   "outputs": [],
   "source": [
    "min_time = df.min(axis=1)\n",
    "max_time = df.max(axis=1)\n",
    "delta = max_time - min_time\n",
    "fig = px.line(delta)\n",
    "fig.update_layout(\n",
    "    xaxis_title='Block',\n",
    "    yaxis_title='Timestamp delta(s)',\n",
    "    showlegend=False,\n",
    ")\n",
    "\n",
    "fig.show()"
   ]
  },
  {
   "cell_type": "markdown",
   "id": "95e7eb085312baab",
   "metadata": {
    "collapsed": false
   },
   "source": [
    "\n",
    "While there was a significant delta of 400s in one of the initial blocks this wasn't repeated so is probably safe to\n",
    "ignore for now. There appears to be a somewhat consistently larger delta between ~800K blocks and 1.2M blocks.\n",
    "It may be a bit misleading because this graph is so dense.\n",
    "\n",
    "Let's see if we can zoom in on that 800K to 1.2M block range."
   ]
  },
  {
   "cell_type": "code",
   "execution_count": null,
   "id": "f6c446b699f62a4e",
   "metadata": {
    "collapsed": false
   },
   "outputs": [],
   "source": [
    "slow_area = px.line(delta[800_000:1_200_000])\n",
    "slow_area.update_layout(\n",
    "    xaxis_title='Block',\n",
    "    yaxis_title='Timestamp delta(s)',\n",
    "    showlegend=False,\n",
    ")\n",
    "\n",
    "slow_area.show()\n"
   ]
  },
  {
   "cell_type": "markdown",
   "id": "22cb9fb9a309a015",
   "metadata": {
    "collapsed": false
   },
   "source": [
    "This still isn't clear enough, so we'll zoom in further to that high 200s point. \n",
    "\n",
    "First will print the date range to know when this extra variance occurred."
   ]
  },
  {
   "cell_type": "code",
   "execution_count": null,
   "outputs": [],
   "source": [
    "print(df.iloc[800_000].min().astype(dtype=\"datetime64[s]\"))\n",
    "print(df.iloc[1_200_000].min().astype(dtype=\"datetime64[s]\"))"
   ],
   "metadata": {
    "collapsed": false
   },
   "id": "5bda11db95ec48f8"
  },
  {
   "cell_type": "code",
   "execution_count": null,
   "id": "7c577e260dd61619",
   "metadata": {
    "collapsed": false
   },
   "outputs": [],
   "source": [
    "zoomed_slow_area = px.line(delta[979_200:979_400])\n",
    "zoomed_slow_area.update_layout(\n",
    "    xaxis_title='Block',\n",
    "    yaxis_title='Timestamp delta(s)',\n",
    "    showlegend=False,\n",
    ")\n",
    "\n",
    "zoomed_slow_area.show()\n"
   ]
  },
  {
   "cell_type": "markdown",
   "id": "30bcc9cddca1180",
   "metadata": {
    "collapsed": false
   },
   "source": [
    "Zooming in to a range of 200 blocks gives us a better idea. It looks like there was an issue where ~30 consecutive\n",
    "blocks took a bit longer.\n",
    "If we look at the timestamps per node perhaps we can better understand what's going on."
   ]
  },
  {
   "cell_type": "code",
   "execution_count": null,
   "id": "db3bb1b320c9fd21",
   "metadata": {
    "collapsed": false
   },
   "outputs": [],
   "source": [
    "node_times = px.line(df[979270:979300].astype(dtype=\"datetime64[s]\"))\n",
    "\n",
    "node_times.update_layout(\n",
    "    xaxis_title='Block',\n",
    "    yaxis_title='Time (UTC)',\n",
    "    legend=dict(\n",
    "        orientation=\"h\",\n",
    "        yanchor=\"top\",\n",
    "        y=4,\n",
    "        xanchor=\"center\",\n",
    "        x=0.5\n",
    "    )\n",
    ")\n",
    "\n",
    "node_times.show()"
   ]
  },
  {
   "cell_type": "markdown",
   "id": "22000050b15980af",
   "metadata": {
    "collapsed": false
   },
   "source": [
    "Looking at that output it appears that for whatever reason the IdeasBeyondBorders node was being delayed noticeably more\n",
    "than the other nodes.\n",
    "Hint: you can mouse over the graph to see the exact values and node name.\n",
    "\n",
    "Let's spot check one other hotspot."
   ]
  },
  {
   "cell_type": "code",
   "execution_count": null,
   "id": "ed0d088cbf929406",
   "metadata": {
    "collapsed": false
   },
   "outputs": [],
   "source": [
    "zoomed_slow_tail = px.line(delta[1_168_900:1_169_000])\n",
    "zoomed_slow_tail.update_layout(\n",
    "    xaxis_title='Block',\n",
    "    yaxis_title='Timestamp delta(s)',\n",
    "    showlegend=False,\n",
    ")\n",
    "\n",
    "zoomed_slow_tail.show()\n"
   ]
  },
  {
   "cell_type": "code",
   "execution_count": null,
   "id": "fa6486af12a0abcf",
   "metadata": {
    "collapsed": false
   },
   "outputs": [],
   "source": [
    "node_times_2 = px.line(df[1_168_940:1_168_950].astype(dtype=\"datetime64[s]\"))\n",
    "\n",
    "node_times_2.update_layout(\n",
    "    xaxis_title='Block',\n",
    "    yaxis_title='Time (UTC)',\n",
    "    legend=dict(\n",
    "        orientation=\"h\",\n",
    "        yanchor=\"top\",\n",
    "        y=4,\n",
    "        xanchor=\"center\",\n",
    "        x=0.5\n",
    "    )\n",
    ")\n",
    "\n",
    "node_times_2.show()"
   ]
  },
  {
   "cell_type": "markdown",
   "id": "65219214ad4309de",
   "metadata": {
    "collapsed": false
   },
   "source": [
    "It looks like the LongNowFoundation node was delayed in this instance. Just\n",
    "based on these two examples it seems that we can't claim one node is delayed \n",
    "more than the others.\n",
    "\n",
    "What we can do is plot the delta per node based on the median or mode of the timestamps."
   ]
  },
  {
   "cell_type": "code",
   "execution_count": null,
   "id": "f09947ff0871287a",
   "metadata": {
    "collapsed": false
   },
   "outputs": [],
   "source": [
    "# Switched to polars here because pandas was slow to do the median and deviation\n",
    "# I need to learn how to plot with polars\n",
    "median = df.median(axis=1)\n",
    "deviation = pl.from_pandas(df) - pl.from_pandas(median)\n",
    "pandas_deviation = deviation.to_pandas()"
   ]
  },
  {
   "cell_type": "code",
   "execution_count": null,
   "id": "89bdcabcbde94eb0",
   "metadata": {
    "collapsed": false
   },
   "outputs": [],
   "source": [
    "deviations = px.line(pandas_deviation[800_000:1_200_000])\n",
    "deviations.update_layout(\n",
    "    xaxis_title='Block',\n",
    "    yaxis_title='Timestamp delta(s)',\n",
    "    legend=dict(\n",
    "        orientation=\"h\",\n",
    "        yanchor=\"top\",\n",
    "        y=4,\n",
    "        xanchor=\"center\",\n",
    "        x=0.5\n",
    "    ),\n",
    ")\n",
    "\n",
    "deviations.show()\n"
   ]
  },
  {
   "cell_type": "markdown",
   "id": "3ab19617fcd8caec",
   "metadata": {
    "collapsed": false
   },
   "source": [
    "This can be a bit hard to separate the nodes. Since there are only 10 nodes we can plot them all individually."
   ]
  },
  {
   "cell_type": "code",
   "execution_count": null,
   "id": "8029f7992177580f",
   "metadata": {
    "collapsed": false
   },
   "outputs": [],
   "source": [
    "per_node = px.line(pandas_deviation[800_000:1_200_000], facet_col=\"variable\")\n",
    "per_node.for_each_annotation(lambda a: a.update(text=''))\n",
    "per_node.update_layout(\n",
    "    yaxis_title='Timestamp delta(s)',\n",
    "    legend=dict(\n",
    "        orientation=\"h\",\n",
    "        yanchor=\"top\",\n",
    "        y=4,\n",
    "        xanchor=\"center\",\n",
    "        x=0.5\n",
    "    ),\n",
    ")\n",
    "per_node.show()"
   ]
  },
  {
   "cell_type": "markdown",
   "id": "a3bbfd721dbc84fa",
   "metadata": {
    "collapsed": false
   },
   "source": [
    "It's a little dense, but it appears that nodes for BlockDaemon, Ideas\n",
    "Beyond Borders, and The Long Now Foundation were all facing delays during that time. The other nodes were fairly close\n",
    "to each other. \n",
    "\n",
    "Another interesting thing we can look at is the distribution of the deltas."
   ]
  },
  {
   "cell_type": "code",
   "execution_count": null,
   "id": "f64d3f3d16e5a268",
   "metadata": {
    "collapsed": false
   },
   "outputs": [],
   "source": [
    "histogram = px.histogram(delta)\n",
    "histogram.update_layout(\n",
    "    yaxis_title='Number of Blocks',\n",
    "    xaxis_title='Timestamp delta(s)',\n",
    "    showlegend=False,\n",
    ")\n",
    "histogram.show()"
   ]
  },
  {
   "cell_type": "markdown",
   "id": "553941daf063853",
   "metadata": {
    "collapsed": false
   },
   "source": [
    "This is a bit dense, one can see that a significant number of blocks have a smaller than a 10-second timestamp delta.\n",
    "\n",
    "Perhaps this data is better shown as a quantiles."
   ]
  },
  {
   "cell_type": "code",
   "execution_count": null,
   "id": "da39ef4409935be6",
   "metadata": {
    "collapsed": false
   },
   "outputs": [],
   "source": [
    "quantiles = delta.quantile([0.99, 0.95, 0.9, 0.75, 0.50, 0.25])\n",
    "quantiles"
   ]
  },
  {
   "cell_type": "markdown",
   "id": "6570c4d83103b089",
   "metadata": {
    "collapsed": false
   },
   "source": [
    "Looking here we can see that 99% of the timestamps are within 17 seconds of each other. 95% are within 7, etc.\n",
    "\n",
    "However, this data is keeping the most delayed node in the set. How do these values look if we remove the most delayed\n",
    "node? To do this we'll use the median absolute deviation(MAD) to remove outliers. This will mimic a node not consenting\n",
    "on the block because the time is out of acceptable range, because of these we'll want to see how many blocks would now\n",
    "be rejected."
   ]
  },
  {
   "cell_type": "code",
   "execution_count": null,
   "id": "f93d60fd2ece5533",
   "metadata": {
    "collapsed": false
   },
   "outputs": [],
   "source": [
    "consensed_nodes = df.count(axis=1)\n",
    "(consensed_nodes < 8).sum()"
   ]
  },
  {
   "cell_type": "markdown",
   "id": "4315c84b76cca02",
   "metadata": {
    "collapsed": false
   },
   "source": [
    "The first 10000 or so blocks only had 7 nodes. We need to take these into account when we see how many blocks may be rejected due to not consensing if the timestamp delta is too great."
   ]
  },
  {
   "cell_type": "code",
   "execution_count": null,
   "id": "703d005fd397783b",
   "metadata": {
    "collapsed": false
   },
   "outputs": [],
   "source": [
    "df_copy = df.copy()\n",
    "mad = np.abs(pandas_deviation).mean()\n",
    "df_copy[np.abs(pandas_deviation) >= 3 * mad] = np.nan\n",
    "time_consensed_nodes = df_copy.count(axis=1)\n",
    "print((time_consensed_nodes < 8).sum())\n",
    "print(((time_consensed_nodes < 8).sum() - (consensed_nodes < 8).sum()) / len(time_consensed_nodes))"
   ]
  },
  {
   "cell_type": "markdown",
   "id": "d76aa736f8efbd59",
   "metadata": {
    "collapsed": false
   },
   "source": [
    "It looks like throwing out the outliers results in 80,000 blocks that would have been rejected. Doing the math it\n",
    "appears that this is a 4% failure rate. Let us plot and see what the new time delta looks like."
   ]
  },
  {
   "cell_type": "code",
   "execution_count": null,
   "id": "ba501b4ff81e2ae3",
   "metadata": {
    "collapsed": false
   },
   "outputs": [],
   "source": [
    "new_max = df_copy.max(axis=1)\n",
    "new_min = df_copy.min(axis=1)\n",
    "new_delta = new_max - new_min\n",
    "new_fig = px.line(new_delta)\n",
    "new_fig.update_layout(\n",
    "    xaxis_title='Block',\n",
    "    yaxis_title='Timestamp delta(s)',\n",
    "    showlegend=False,\n",
    ")\n",
    "\n",
    "new_fig.show()\n"
   ]
  },
  {
   "cell_type": "markdown",
   "source": [
    "We can see now that the nodes are all within 3 seconds of each other.\n",
    "\n",
    "The logic to determine which outliers to remove used the magic number `3`\n",
    "```python\n",
    "df_copy[np.abs(pandas_deviation) >= 3 * mad] = np.nan\n",
    "```\n",
    "We can increase this value to increase the allowed time delta, to get a better idea of how many blocks would be rejected in each instance.\n",
    "\n",
    "Another curiosity is if we've always been increasing in node timestamps or if there are ones that have stayed the same\n",
    "or gone backward. Fog reports the minimum timestamp, so we can diff all of those."
   ],
   "metadata": {
    "collapsed": false
   },
   "id": "52844db3e124392a"
  },
  {
   "cell_type": "code",
   "execution_count": null,
   "outputs": [],
   "source": [
    "subsequent_timestamp_differences = min_time.diff()\n",
    "print(subsequent_timestamp_differences.min())\n",
    "print(subsequent_timestamp_differences[subsequent_timestamp_differences <= 0].count())\n",
    "subsequent_fig = px.line(subsequent_timestamp_differences)\n",
    "subsequent_fig.update_layout(\n",
    "    xaxis_title='Block',\n",
    "    yaxis_title='Timestamp delta(s)',\n",
    "    showlegend=False,\n",
    ")\n",
    "\n",
    "subsequent_fig.show()\n"
   ],
   "metadata": {
    "collapsed": false
   },
   "id": "f36fe0dcdfb6195d"
  },
  {
   "cell_type": "markdown",
   "source": [
    "It looks like we've never gone backwards in time, but we've had some blocks that occurred in the same second."
   ],
   "metadata": {
    "collapsed": false
   },
   "id": "fe1c5e3614450096"
  }
 ],
 "metadata": {
  "kernelspec": {
   "display_name": "Python 3 (ipykernel)",
   "language": "python",
   "name": "python3"
  },
  "language_info": {
   "codemirror_mode": {
    "name": "ipython",
    "version": 3
   },
   "file_extension": ".py",
   "mimetype": "text/x-python",
   "name": "python",
   "nbconvert_exporter": "python",
   "pygments_lexer": "ipython3",
   "version": "3.11.6"
  }
 },
 "nbformat": 4,
 "nbformat_minor": 5
}
