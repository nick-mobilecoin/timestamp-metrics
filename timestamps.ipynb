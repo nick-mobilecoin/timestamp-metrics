{
 "cells": [
  {
   "cell_type": "code",
   "execution_count": null,
   "id": "123b0fa6c7add1ca",
   "metadata": {
    "collapsed": false
   },
   "outputs": [],
   "source": [
    "import pandas as pd\n",
    "import plotly.express as px\n",
    "import polars as pl\n",
    "\n",
    "pd.options.plotting.backend = \"plotly\"\n",
    "\n",
    "df = pd.read_csv('block-times-oct-27-2023.zip', index_col=0)"
   ]
  },
  {
   "cell_type": "code",
   "execution_count": null,
   "id": "46858ffb1b8f7c60",
   "metadata": {
    "collapsed": false
   },
   "outputs": [],
   "source": [
    "min_time = df.min(axis=1)\n",
    "max_time = df.max(axis=1)\n",
    "diff = max_time - min_time\n",
    "fig = px.line(diff)\n",
    "fig.update_layout(\n",
    "    xaxis_title='Block',\n",
    "    yaxis_title='Timsetamp delta(s)',\n",
    "    showlegend=False,\n",
    ")\n",
    "\n",
    "fig.show()"
   ]
  },
  {
   "cell_type": "markdown",
   "id": "95e7eb085312baab",
   "metadata": {
    "collapsed": false
   },
   "source": [
    "\n",
    "While there was a significant delta of 400s in one of the initial blocks this wasn't repeated so is probably safe to\n",
    "ignore for now. There appears to be a somewhat consistently larger delta between ~800K blocks and 1.2M blocks.\n",
    "It may be be a bit misleading because this graph is so dense.\n",
    "\n",
    "Lets see if we can zoom in on those 800K to 1.2M block range."
   ]
  },
  {
   "cell_type": "code",
   "execution_count": null,
   "id": "f6c446b699f62a4e",
   "metadata": {
    "collapsed": false
   },
   "outputs": [],
   "source": [
    "slow_area = px.line(diff[800_000:1_200_000])\n",
    "slow_area.update_layout(\n",
    "    xaxis_title='Block',\n",
    "    yaxis_title='Timestamp delta(s)',\n",
    "    showlegend=False,\n",
    ")\n",
    "\n",
    "slow_area.show()"
   ]
  },
  {
   "cell_type": "markdown",
   "source": [
    "This still isn't clear enough, so we'll zoom in further to that high 200s point."
   ],
   "metadata": {
    "collapsed": false
   },
   "id": "22cb9fb9a309a015"
  },
  {
   "cell_type": "code",
   "execution_count": null,
   "outputs": [],
   "source": [
    "zoomed_slow_area = px.line(diff[979_200:979_400])\n",
    "zoomed_slow_area.update_layout(\n",
    "    xaxis_title='Block',\n",
    "    yaxis_title='Timestamp delta(s)',\n",
    "    showlegend=False,\n",
    ")\n",
    "\n",
    "zoomed_slow_area.show()\n"
   ],
   "metadata": {
    "collapsed": false
   },
   "id": "7c577e260dd61619"
  },
  {
   "cell_type": "markdown",
   "source": [
    "Zooming in to a range of 200 blocks gives us a better idea. It looks like there was an issue where ~30 consecutive\n",
    "blocks took a bit longer.\n",
    "If we look at the timestamps per node perhaps we can better understand what's going on."
   ],
   "metadata": {
    "collapsed": false
   },
   "id": "30bcc9cddca1180"
  },
  {
   "cell_type": "code",
   "execution_count": null,
   "outputs": [],
   "source": [
    "node_times = px.line(df[979270:979300].astype(dtype=\"datetime64[s]\"))\n",
    "\n",
    "node_times.update_layout(\n",
    "    xaxis_title='Block',\n",
    "    yaxis_title='Time (UTC)',\n",
    "    legend=dict(\n",
    "        orientation=\"h\",\n",
    "        yanchor=\"top\",\n",
    "        y=4,\n",
    "        xanchor=\"center\",\n",
    "        x=0.5\n",
    "    )\n",
    ")\n",
    "\n",
    "node_times.show()"
   ],
   "metadata": {
    "collapsed": false
   },
   "id": "db3bb1b320c9fd21"
  },
  {
   "cell_type": "markdown",
   "source": [
    "Looking at that output it appears that for whatever reason the IdeasBeyondBorders node was being delayed noticeably more\n",
    "than the other nodes.\n",
    "Hint: you can mouse over the graph to see the exact values and node name.\n",
    "\n",
    "Let's spot check one other hotspot."
   ],
   "metadata": {
    "collapsed": false
   },
   "id": "22000050b15980af"
  },
  {
   "cell_type": "code",
   "execution_count": null,
   "outputs": [],
   "source": [
    "zoomed_slow_tail = px.line(diff[1_168_900:1_169_000])\n",
    "zoomed_slow_tail.update_layout(\n",
    "    xaxis_title='Block',\n",
    "    yaxis_title='Timestamp delta(s)',\n",
    "    showlegend=False,\n",
    ")\n",
    "\n",
    "zoomed_slow_tail.show()\n"
   ],
   "metadata": {
    "collapsed": false
   },
   "id": "ed0d088cbf929406"
  },
  {
   "cell_type": "code",
   "execution_count": null,
   "outputs": [],
   "source": [
    "node_times_2 = px.line(df[1_168_940:1_168_950].astype(dtype=\"datetime64[s]\"))\n",
    "\n",
    "node_times_2.update_layout(\n",
    "    xaxis_title='Block',\n",
    "    yaxis_title='Time (UTC)',\n",
    "    legend=dict(\n",
    "        orientation=\"h\",\n",
    "        yanchor=\"top\",\n",
    "        y=4,\n",
    "        xanchor=\"center\",\n",
    "        x=0.5\n",
    "    )\n",
    ")\n",
    "\n",
    "node_times_2.show()"
   ],
   "metadata": {
    "collapsed": false
   },
   "id": "fa6486af12a0abcf"
  },
  {
   "cell_type": "markdown",
   "source": [
    "It looks like the LongNowFoundation node was delayed in this instance. Just\n",
    "based on these two examples it seems that we can't claim one node is delayed \n",
    "more than the others.\n",
    "\n",
    "What we can do is plot the delta per node based on the median or mode of the timestamps."
   ],
   "metadata": {
    "collapsed": false
   },
   "id": "65219214ad4309de"
  },
  {
   "cell_type": "code",
   "execution_count": null,
   "outputs": [],
   "source": [
    "# Switched to polars here because pandas was slow to do the median and deviation\n",
    "# I need to learn how to plot with polars\n",
    "median = df.median(axis=1)\n",
    "deviation = pl.from_pandas(df) - pl.from_pandas(median)\n",
    "pandas_deviation = deviation.to_pandas()"
   ],
   "metadata": {
    "collapsed": false
   },
   "id": "f09947ff0871287a"
  },
  {
   "cell_type": "code",
   "execution_count": null,
   "outputs": [],
   "source": [
    "deviations = px.line(pandas_deviation[800_000:1_200_000])\n",
    "deviations.update_layout(\n",
    "    xaxis_title='Block',\n",
    "    yaxis_title='Timestamp delta(s)',\n",
    "    legend=dict(\n",
    "        orientation=\"h\",\n",
    "        yanchor=\"top\",\n",
    "        y=4,\n",
    "        xanchor=\"center\",\n",
    "        x=0.5\n",
    "    ),\n",
    ")\n",
    "\n",
    "deviations.show()\n"
   ],
   "metadata": {
    "collapsed": false
   },
   "id": "89bdcabcbde94eb0"
  },
  {
   "cell_type": "markdown",
   "source": [
    "This can be a bit hard to separate the nodes. Since there are only 10 nodes we can plot them all individually."
   ],
   "metadata": {
    "collapsed": false
   },
   "id": "3ab19617fcd8caec"
  },
  {
   "cell_type": "code",
   "execution_count": null,
   "outputs": [],
   "source": [
    "for node in df.columns:\n",
    "    node_deviation = px.line(pandas_deviation[800_000:1_200_000][node])\n",
    "    node_deviation.update_layout(\n",
    "        xaxis_title='Block',\n",
    "        yaxis_title='Timestamp delta(s)',\n",
    "        legend=dict(\n",
    "            orientation=\"h\",\n",
    "            yanchor=\"top\",\n",
    "            y=4,\n",
    "            xanchor=\"center\",\n",
    "            x=0.5\n",
    "        ),\n",
    "    )\n",
    "    node_deviation.show()"
   ],
   "metadata": {
    "collapsed": false
   },
   "id": "8029f7992177580f"
  },
  {
   "cell_type": "markdown",
   "source": [
    "It's important to look at the scale on the y axis. Based on the graphs it appears that nodes for BlockDaemon, Ideas Beyond Borders, and The Long Now Foundation were all facing delays during that time. The other nodes were mostly within 1 second of each other.\n",
    "\n",
    "Another interesting thing we can look at is the distribution of the deltas.\n"
   ],
   "metadata": {
    "collapsed": false
   },
   "id": "a3bbfd721dbc84fa"
  },
  {
   "cell_type": "code",
   "execution_count": null,
   "outputs": [],
   "source": [
    "histogram = px.histogram(diff)\n",
    "histogram.update_layout(\n",
    "    yaxis_title='Number of Blocks',\n",
    "    xaxis_title='Timestamp delta(s)',\n",
    "    showlegend=False,\n",
    ")\n",
    "histogram.show()"
   ],
   "metadata": {
    "collapsed": false
   },
   "id": "f64d3f3d16e5a268"
  },
  {
   "cell_type": "markdown",
   "source": [
    "This is a bit dense, one can see that a significant number of blocks have a smaller than a 10 second timestamp delta.\n",
    "\n",
    "Perhaps this data is better shown as a quantiles."
   ],
   "metadata": {
    "collapsed": false
   },
   "id": "553941daf063853"
  },
  {
   "cell_type": "code",
   "execution_count": null,
   "outputs": [],
   "source": [
    "quantiles = diff.quantile([0.99, 0.95, 0.9, 0.75, 0.50, 0.25])\n",
    "quantiles"
   ],
   "metadata": {
    "collapsed": false
   },
   "id": "da39ef4409935be6"
  },
  {
   "cell_type": "markdown",
   "source": [
    "Looking here we can see that 99% of the timestamps are within 17 seconds of each other. 95% are within 7, etc.\n",
    "\n",
    "However, this data is keeping the most delayed node in the set. How do this values look if we remove the most delayed\n",
    "node?"
   ],
   "metadata": {
    "collapsed": false
   },
   "id": "6570c4d83103b089"
  }
 ],
 "metadata": {
  "kernelspec": {
   "display_name": "Python 3",
   "language": "python",
   "name": "python3"
  },
  "language_info": {
   "codemirror_mode": {
    "name": "ipython",
    "version": 3
   },
   "file_extension": ".py",
   "mimetype": "text/x-python",
   "name": "python",
   "nbconvert_exporter": "python",
   "pygments_lexer": "ipython3",
   "version": "3.11.6"
  }
 },
 "nbformat": 4,
 "nbformat_minor": 5
}
