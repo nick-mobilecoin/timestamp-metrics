{
 "cells": [
  {
   "cell_type": "code",
   "execution_count": null,
   "id": "123b0fa6c7add1ca",
   "metadata": {
    "collapsed": false
   },
   "outputs": [],
   "source": [
    "import pandas as pd\n",
    "import plotly.express as px\n",
    "\n",
    "pd.options.plotting.backend = \"plotly\"\n",
    "\n",
    "df = pd.read_csv('block-times-oct-27-2023.zip', index_col=0)"
   ]
  },
  {
   "cell_type": "code",
   "execution_count": null,
   "id": "46858ffb1b8f7c60",
   "metadata": {
    "collapsed": false
   },
   "outputs": [],
   "source": [
    "min_time = df.min(axis=1)\n",
    "max_time = df.max(axis=1)\n",
    "diff = max_time - min_time\n",
    "fig = px.line(diff)\n",
    "fig.update_layout(\n",
    "    xaxis_title='Block',\n",
    "    yaxis_title='Timsetamp delta(s)',\n",
    "    showlegend=False,\n",
    ")\n",
    "\n",
    "fig.show()"
   ]
  },
  {
   "cell_type": "markdown",
   "id": "95e7eb085312baab",
   "metadata": {
    "collapsed": false
   },
   "source": [
    "\n",
    "While there was as significant delta of 400ms in one of the initial blocks this wasn't repeated so is probably safe to\n",
    "ignore for now. There appears to be a somewhat consistently larger delta between ~800K blocks and 1.2M blocks.\n",
    "It may be be a bit misleading because this graph is so dense.\n",
    "\n",
    "Lets see if we can zoom in on those 800K to 1.2M block range."
   ]
  },
  {
   "cell_type": "code",
   "execution_count": null,
   "id": "f6c446b699f62a4e",
   "metadata": {
    "collapsed": false
   },
   "outputs": [],
   "source": [
    "slow_area = px.line(diff[800_000:1_200_000])\n",
    "slow_area.update_layout(\n",
    "    xaxis_title='Block',\n",
    "    yaxis_title='Timestamp delta(s)',\n",
    "    showlegend=False,\n",
    ")\n",
    "\n",
    "slow_area.show()"
   ]
  },
  {
   "cell_type": "markdown",
   "source": [
    "This still isn't clear enough so we'll zoom in further to that high 200s point."
   ],
   "metadata": {
    "collapsed": false
   },
   "id": "22cb9fb9a309a015"
  },
  {
   "cell_type": "code",
   "execution_count": null,
   "outputs": [],
   "source": [
    "zoomed_slow_area = px.line(diff[979_200:979_400])\n",
    "zoomed_slow_area.update_layout(\n",
    "    xaxis_title='Block',\n",
    "    yaxis_title='Timestamp delta(s)',\n",
    "    showlegend=False,\n",
    ")\n",
    "\n",
    "zoomed_slow_area.show()\n"
   ],
   "metadata": {
    "collapsed": false
   },
   "id": "7c577e260dd61619"
  },
  {
   "cell_type": "markdown",
   "source": [
    "Zooming in to a range of 200 blocks gives us a better idea. It looks like there was an an issue where ~30 consecutive\n",
    "blocks took a bit longer.\n",
    "If we look at the timestamps per node perhaps we can better understand what's going on."
   ],
   "metadata": {
    "collapsed": false
   },
   "id": "30bcc9cddca1180"
  },
  {
   "cell_type": "code",
   "execution_count": null,
   "outputs": [],
   "source": [
    "node_times = px.line(df[979270:979300].astype(dtype=\"datetime64[s]\"))\n",
    "\n",
    "node_times.update_layout(\n",
    "    xaxis_title='Block',\n",
    "    yaxis_title='Time (UTC)',\n",
    "    legend=dict(\n",
    "        orientation=\"h\",\n",
    "        yanchor=\"top\",\n",
    "        y=4,\n",
    "        xanchor=\"center\",\n",
    "        x=0.5\n",
    "    )\n",
    ")\n",
    "\n",
    "node_times.show()"
   ],
   "metadata": {
    "collapsed": false
   },
   "id": "db3bb1b320c9fd21"
  },
  {
   "cell_type": "markdown",
   "source": [
    "Looking at that output it appears that for whatever reason the IdeasBeyondBorders node was being delayed noticeably more\n",
    "than the other nodes.\n",
    "Hint: you can mouse over the graph to see the exact values and node name.\n",
    "\n",
    "Let's spot check one other hotspot."
   ],
   "metadata": {
    "collapsed": false
   },
   "id": "22000050b15980af"
  },
  {
   "cell_type": "code",
   "execution_count": null,
   "outputs": [],
   "source": [
    "zoomed_slow_tail = px.line(diff[1_168_900:1_169_000])\n",
    "zoomed_slow_tail.update_layout(\n",
    "    xaxis_title='Block',\n",
    "    yaxis_title='Timestamp delta(s)',\n",
    "    showlegend=False,\n",
    ")\n",
    "\n",
    "zoomed_slow_tail.show()\n"
   ],
   "metadata": {
    "collapsed": false
   },
   "id": "ed0d088cbf929406"
  },
  {
   "cell_type": "code",
   "execution_count": null,
   "outputs": [],
   "source": [
    "node_times_2 = px.line(df[1_168_940:1_168_950].astype(dtype=\"datetime64[s]\"))\n",
    "\n",
    "node_times_2.update_layout(\n",
    "    xaxis_title='Block',\n",
    "    yaxis_title='Time (UTC)',\n",
    "    legend=dict(\n",
    "        orientation=\"h\",\n",
    "        yanchor=\"top\",\n",
    "        y=4,\n",
    "        xanchor=\"center\",\n",
    "        x=0.5\n",
    "    )\n",
    ")\n",
    "\n",
    "node_times_2.show()"
   ],
   "metadata": {
    "collapsed": false
   },
   "id": "fa6486af12a0abcf"
  }
 ],
 "metadata": {
  "kernelspec": {
   "display_name": "Python 3",
   "language": "python",
   "name": "python3"
  },
  "language_info": {
   "codemirror_mode": {
    "name": "ipython",
    "version": 3
   },
   "file_extension": ".py",
   "mimetype": "text/x-python",
   "name": "python",
   "nbconvert_exporter": "python",
   "pygments_lexer": "ipython3",
   "version": "3.11.6"
  }
 },
 "nbformat": 4,
 "nbformat_minor": 5
}
