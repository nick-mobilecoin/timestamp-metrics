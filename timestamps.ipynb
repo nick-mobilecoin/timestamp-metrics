{
 "cells": [
  {
   "cell_type": "code",
   "execution_count": null,
   "outputs": [],
   "source": [
    "import pandas as pd\n",
    "pd.options.plotting.backend = \"plotly\"\n",
    "\n",
    "df = pd.read_csv('block-times-oct-27-2023.zip', index_col=0)"
   ],
   "metadata": {
    "collapsed": false
   },
   "id": "123b0fa6c7add1ca"
  },
  {
   "cell_type": "code",
   "execution_count": null,
   "outputs": [],
   "source": [
    "min = df.min(axis=1)\n",
    "max = df.max(axis=1)\n",
    "diff = max - min\n",
    "diff.plot()"
   ],
   "metadata": {
    "collapsed": false
   },
   "id": "46858ffb1b8f7c60"
  },
  {
   "cell_type": "code",
   "execution_count": null,
   "outputs": [],
   "source": [],
   "metadata": {
    "collapsed": false
   },
   "id": "2ba8d0552f8e5596"
  }
 ],
 "metadata": {
  "kernelspec": {
   "display_name": "Python 3",
   "language": "python",
   "name": "python3"
  },
  "language_info": {
   "codemirror_mode": {
    "name": "ipython",
    "version": 2
   },
   "file_extension": ".py",
   "mimetype": "text/x-python",
   "name": "python",
   "nbconvert_exporter": "python",
   "pygments_lexer": "ipython2",
   "version": "2.7.6"
  }
 },
 "nbformat": 4,
 "nbformat_minor": 5
}
